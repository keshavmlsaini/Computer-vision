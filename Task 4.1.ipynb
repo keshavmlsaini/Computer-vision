{
 "cells": [
  {
   "cell_type": "code",
   "execution_count": 1,
   "id": "de7ecf32",
   "metadata": {},
   "outputs": [],
   "source": [
    "import cv2\n"
   ]
  },
  {
   "cell_type": "code",
   "execution_count": 2,
   "id": "040186dc",
   "metadata": {},
   "outputs": [],
   "source": [
    "cap=cv2.VideoCapture(0)"
   ]
  },
  {
   "cell_type": "code",
   "execution_count": 3,
   "id": "0af627bb",
   "metadata": {},
   "outputs": [],
   "source": [
    "import numpy"
   ]
  },
  {
   "cell_type": "code",
   "execution_count": 4,
   "id": "8e94acf8",
   "metadata": {},
   "outputs": [],
   "source": [
    "img=numpy.zeros((1000,1000))"
   ]
  },
  {
   "cell_type": "code",
   "execution_count": 5,
   "id": "f1ce0415",
   "metadata": {},
   "outputs": [],
   "source": [
    "imgs=cv2.circle(img,(450,300),120,(255,0,255),5)\n",
    "imgs=cv2.line(img,(450,420),(450,800),(255,0,255),5)\n",
    "imgs=cv2.line(img,(450,420),(200,800),(255,0,255),5)\n",
    "imgs=cv2.line(img,(450,420),(700,800),(255,0,255),5)\n"
   ]
  },
  {
   "cell_type": "code",
   "execution_count": 6,
   "id": "18f93334",
   "metadata": {},
   "outputs": [
    {
     "data": {
      "text/plain": [
       "True"
      ]
     },
     "execution_count": 6,
     "metadata": {},
     "output_type": "execute_result"
    }
   ],
   "source": [
    "cv2.imwrite(\"img.jpg\",imgs)"
   ]
  },
  {
   "cell_type": "code",
   "execution_count": 7,
   "id": "4711b976",
   "metadata": {},
   "outputs": [],
   "source": [
    "cv2.imshow('hi',imgs)\n",
    "cv2.waitKey()\n",
    "cv2.destroyAllWindows()"
   ]
  },
  {
   "cell_type": "code",
   "execution_count": null,
   "id": "4292dc97",
   "metadata": {},
   "outputs": [],
   "source": []
  },
  {
   "cell_type": "code",
   "execution_count": null,
   "id": "2026ccdf",
   "metadata": {},
   "outputs": [],
   "source": []
  }
 ],
 "metadata": {
  "kernelspec": {
   "display_name": "Python 3",
   "language": "python",
   "name": "python3"
  },
  "language_info": {
   "codemirror_mode": {
    "name": "ipython",
    "version": 3
   },
   "file_extension": ".py",
   "mimetype": "text/x-python",
   "name": "python",
   "nbconvert_exporter": "python",
   "pygments_lexer": "ipython3",
   "version": "3.8.8"
  }
 },
 "nbformat": 4,
 "nbformat_minor": 5
}
